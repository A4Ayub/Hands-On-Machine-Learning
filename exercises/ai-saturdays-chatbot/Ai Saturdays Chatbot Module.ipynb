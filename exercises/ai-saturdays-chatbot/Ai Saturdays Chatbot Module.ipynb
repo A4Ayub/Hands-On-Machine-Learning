{
 "cells": [
  {
   "cell_type": "markdown",
   "metadata": {},
   "source": [
    "# Ai Saturdays Chatbot Module"
   ]
  },
  {
   "cell_type": "code",
   "execution_count": 1,
   "metadata": {},
   "outputs": [
    {
     "name": "stderr",
     "output_type": "stream",
     "text": [
      "Using TensorFlow backend.\n",
      "WARNING: Logging before flag parsing goes to stderr.\n",
      "W0909 04:16:04.355901 139929110464320 blas_headers.py:988] Using NumPy C-API based implementation for BLAS functions.\n"
     ]
    }
   ],
   "source": [
    "# import the necessary libraries\n",
    "import os\n",
    "from scipy import spatial\n",
    "import numpy as np\n",
    "import gensim\n",
    "import nltk\n",
    "from keras.models import load_model\n",
    "import theano"
   ]
  },
  {
   "cell_type": "code",
   "execution_count": 2,
   "metadata": {},
   "outputs": [],
   "source": [
    "# Configuration settings\n",
    "theano.config.optimizer=\"None\""
   ]
  },
  {
   "cell_type": "code",
   "execution_count": null,
   "metadata": {},
   "outputs": [
    {
     "name": "stdout",
     "output_type": "stream",
     "text": [
      "Enter the message: Hello\n"
     ]
    },
    {
     "name": "stderr",
     "output_type": "stream",
     "text": [
      "/usr/local/gcti/anaconda3/lib/python3.7/site-packages/ipykernel_launcher.py:9: DeprecationWarning: Call to deprecated `__getitem__` (Method will be removed in 4.0.0, use self.wv.__getitem__() instead).\n",
      "  if __name__ == '__main__':\n",
      "/usr/local/gcti/anaconda3/lib/python3.7/site-packages/ipykernel_launcher.py:19: DeprecationWarning: Call to deprecated `most_similar` (Method will be removed in 4.0.0, use self.wv.most_similar() instead).\n"
     ]
    },
    {
     "name": "stdout",
     "output_type": "stream",
     "text": [
      "hi to you , how are you doing ? that that that that , ,\n",
      "Enter the message: Tell me about Ai Saturday\n",
      "great , you . have a you this you , , , , , ,\n",
      "Enter the message: How are you\n",
      "great , is a group of students coming together to teach each other , ,\n",
      "Enter the message: tell me about AiSaturday\n",
      "great , you to you , to this together to know each you doing that\n",
      "Enter the message: are you stupid?\n",
      "you , know that to you , how are know that know that you n't\n",
      "Enter the message: I guess you are so stupid and silly\n",
      "oooh , that that , is that . a you that , , , ,\n",
      "Enter the message: What is your Name\n",
      "great , is . a that of students coming together to teach each other ,\n",
      "Enter the message: so what is your name\n",
      "you , know . have a you of you this together to teach each other\n",
      "Enter the message: ok cool\n",
      "you too to you , how are you doing you doing ? that that that\n"
     ]
    }
   ],
   "source": [
    "# The Chatbot Simulator\n",
    "model = load_model('LSTM5000.h5')\n",
    "mod = gensim.models.Word2Vec.load('models/word2vec.bin')\n",
    "while(True):\n",
    "    x=input(\"Enter the message: \")\n",
    "    sentend=np.ones((300),dtype=np.float32)\n",
    "    \n",
    "    sent=nltk.word_tokenize(x.lower())\n",
    "    sentvec=[mod[w] for w in sent if w in mod.wv.vocab]\n",
    "    \n",
    "    sentvec[14:]=[]\n",
    "    sentvec.append(sentend)\n",
    "    if len(sentvec)<15:\n",
    "        for i in range(15-len(sentvec)):\n",
    "            sentvec.append(sentend)\n",
    "    sentvec=np.array([sentvec])\n",
    "    \n",
    "    predictions = model.predict(sentvec)\n",
    "    outputlist=[mod.most_similar([predictions[0][i]])[0][0] for i in range(15)]\n",
    "    output=' '.join(outputlist)\n",
    "    print(output)"
   ]
  },
  {
   "cell_type": "code",
   "execution_count": null,
   "metadata": {},
   "outputs": [],
   "source": []
  },
  {
   "cell_type": "code",
   "execution_count": null,
   "metadata": {},
   "outputs": [],
   "source": []
  }
 ],
 "metadata": {
  "kernelspec": {
   "display_name": "Python 3",
   "language": "python",
   "name": "python3"
  },
  "language_info": {
   "codemirror_mode": {
    "name": "ipython",
    "version": 3
   },
   "file_extension": ".py",
   "mimetype": "text/x-python",
   "name": "python",
   "nbconvert_exporter": "python",
   "pygments_lexer": "ipython3",
   "version": "3.7.4"
  }
 },
 "nbformat": 4,
 "nbformat_minor": 2
}
